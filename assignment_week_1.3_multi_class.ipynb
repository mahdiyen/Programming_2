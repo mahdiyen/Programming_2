{
 "cells": [
  {
   "cell_type": "markdown",
   "id": "75f5ed2a",
   "metadata": {},
   "source": [
    "## class CsvConverter"
   ]
  },
  {
   "cell_type": "code",
   "execution_count": 10,
   "id": "6891ee29",
   "metadata": {},
   "outputs": [],
   "source": [
    "import json\n",
    "import linecache as lc"
   ]
  },
  {
   "cell_type": "code",
   "execution_count": 1,
   "id": "fbda38ad",
   "metadata": {},
   "outputs": [],
   "source": [
    "class CsvConverter:\n",
    "    def __init__(self,file_name, header):\n",
    "        self.file_name = file_name\n",
    "        self.header = header\n",
    "        self.keys = self.header.split(',')\n",
    "\n",
    "    \n",
    "    def convert_csv_to_json(self,lines):\n",
    "        json_list=[]\n",
    "        for line in lines:\n",
    "            try:\n",
    "                assert len(line) == len(self.keys)\n",
    "\n",
    "                json_dict = {key: value for key, value in zip(self.keys, line)}\n",
    "                json_list.append(json_dict)\n",
    "            except AssertionError:\n",
    "                print (\"Number of items in line does not match the number of keys in header.\")\n",
    "            \n",
    "        return json.dumps(json_list)\n",
    "        "
   ]
  },
  {
   "cell_type": "code",
   "execution_count": 7,
   "id": "512118c3",
   "metadata": {},
   "outputs": [
    {
     "data": {
      "text/plain": [
       "'[{\"first\": 1, \"second\": 2, \"third\": 3}, {\"first\": 4, \"second\": 5, \"third\": 6}]'"
      ]
     },
     "execution_count": 7,
     "metadata": {},
     "output_type": "execute_result"
    }
   ],
   "source": [
    "header = 'first,second,third'\n",
    "c = CsvConverter('dSST.csv',header)\n",
    "lines =[[1,2,3],[4,5,6]]\n",
    "c.convert_csv_to_json(lines)"
   ]
  },
  {
   "cell_type": "markdown",
   "id": "b025bcaa",
   "metadata": {},
   "source": [
    "## class Reader:"
   ]
  },
  {
   "cell_type": "code",
   "execution_count": 182,
   "id": "034cc0f2",
   "metadata": {},
   "outputs": [],
   "source": [
    "class Reader:\n",
    "    \n",
    "    def __init__(self, location, csvconverter):\n",
    "        self.location = location\n",
    "        self.csvconverter = csvconverter\n",
    "        self.starter =2\n",
    "        \n",
    "    def get_lines(self):\n",
    "        lines_list = list()\n",
    "        for i in range(self.starter, self.starter + 4):\n",
    "            line = lc.getline(self.csvconverter.file_name,i).strip()\n",
    "            if line:\n",
    "                lines_list.append(line.split(','))\n",
    "            else:\n",
    "                break\n",
    "        self.starter = self.starter + 4\n",
    "        if not lines_list:\n",
    "            return \"\"\n",
    "        \n",
    "        return (self.csvconverter.convert_csv_to_json(lines_list))"
   ]
  },
  {
   "cell_type": "code",
   "execution_count": 183,
   "id": "23e7b2c1",
   "metadata": {},
   "outputs": [],
   "source": [
    "header = lc.getline('dSST.csv',1).strip()\n",
    "r = Reader('dSST.csv', CsvConverter('dSST.csv',header))"
   ]
  },
  {
   "cell_type": "code",
   "execution_count": 184,
   "id": "3b756ab2",
   "metadata": {},
   "outputs": [
    {
     "data": {
      "text/plain": [
       "'[{\"Year\": \"1881\", \"Jan\": \"-.18\", \"Feb\": \"-.13\", \"Mar\": \".04\", \"Apr\": \".06\", \"May\": \".07\", \"Jun\": \"-.17\", \"Jul\": \".02\", \"Aug\": \"-.02\", \"Sep\": \"-.14\", \"Oct\": \"-.21\", \"Nov\": \"-.17\", \"Dec\": \"-.06\", \"J-D\": \"-.07\", \"D-N\": \"-.08\", \"DJF\": \"-.16\", \"MAM\": \".06\", \"JJA\": \"-.06\", \"SON\": \"-.17\"}, {\"Year\": \"1882\", \"Jan\": \".17\", \"Feb\": \".15\", \"Mar\": \".05\", \"Apr\": \"-.16\", \"May\": \"-.13\", \"Jun\": \"-.22\", \"Jul\": \"-.15\", \"Aug\": \"-.06\", \"Sep\": \"-.13\", \"Oct\": \"-.23\", \"Nov\": \"-.15\", \"Dec\": \"-.36\", \"J-D\": \"-.10\", \"D-N\": \"-.08\", \"DJF\": \".09\", \"MAM\": \"-.08\", \"JJA\": \"-.15\", \"SON\": \"-.17\"}, {\"Year\": \"1883\", \"Jan\": \"-.28\", \"Feb\": \"-.36\", \"Mar\": \"-.12\", \"Apr\": \"-.18\", \"May\": \"-.17\", \"Jun\": \"-.06\", \"Jul\": \"-.06\", \"Aug\": \"-.13\", \"Sep\": \"-.21\", \"Oct\": \"-.11\", \"Nov\": \"-.23\", \"Dec\": \"-.11\", \"J-D\": \"-.17\", \"D-N\": \"-.19\", \"DJF\": \"-.33\", \"MAM\": \"-.15\", \"JJA\": \"-.09\", \"SON\": \"-.19\"}, {\"Year\": \"1884\", \"Jan\": \"-.12\", \"Feb\": \"-.07\", \"Mar\": \"-.36\", \"Apr\": \"-.39\", \"May\": \"-.33\", \"Jun\": \"-.34\", \"Jul\": \"-.32\", \"Aug\": \"-.27\", \"Sep\": \"-.26\", \"Oct\": \"-.24\", \"Nov\": \"-.33\", \"Dec\": \"-.30\", \"J-D\": \"-.28\", \"D-N\": \"-.26\", \"DJF\": \"-.10\", \"MAM\": \"-.36\", \"JJA\": \"-.31\", \"SON\": \"-.28\"}]'"
      ]
     },
     "execution_count": 184,
     "metadata": {},
     "output_type": "execute_result"
    }
   ],
   "source": [
    "r.get_lines()"
   ]
  },
  {
   "cell_type": "code",
   "execution_count": 20,
   "id": "55d7cecb",
   "metadata": {},
   "outputs": [
    {
     "data": {
      "text/plain": [
       "14"
      ]
     },
     "execution_count": 20,
     "metadata": {},
     "output_type": "execute_result"
    }
   ],
   "source": [
    "r.starter"
   ]
  },
  {
   "cell_type": "markdown",
   "id": "b0c9b1be",
   "metadata": {},
   "source": [
    "## class AverageYear"
   ]
  },
  {
   "cell_type": "code",
   "execution_count": 178,
   "id": "f8454eba",
   "metadata": {},
   "outputs": [],
   "source": [
    "import json\n",
    "import numpy as np\n",
    "import pandas as pd\n",
    "import matplotlib.pyplot as plt"
   ]
  },
  {
   "cell_type": "code",
   "execution_count": 185,
   "id": "0bfffced",
   "metadata": {},
   "outputs": [],
   "source": [
    "class AverageYear:\n",
    "    def __init__(self, reader):\n",
    "        self.reader = reader\n",
    "        self.data = []\n",
    "    \n",
    "    def compute_average(self):\n",
    "        while True:\n",
    "            lines = self.reader.get_lines()\n",
    "            if not lines:\n",
    "                break\n",
    "            for line in lines:\n",
    "                row = json.loads(line)\n",
    "                self.data.append(row)\n",
    "        df = pd.DataFrame(self.data)\n",
    "        print(head(df))\n",
    "#         df['Year'] = pd.to_datetime(df['Year'], format='%Y')\n",
    "#         df.set_index('Year', inplace=True)\n",
    "#         df = df.iloc[:, 1:13]\n",
    "#         df = df.apply(pd.to_numeric, errors='coerce')\n",
    "#         yearly_mean = df.mean(axis=1)\n",
    "#         plt.plot(yearly_mean)\n",
    "#         plt.title('Average Temperature Anomaly per Year')\n",
    "#         plt.ylabel('Temperature Anomaly (°C)')\n",
    "#         plt.xlabel('Year')\n",
    "#         plt.show()"
   ]
  },
  {
   "cell_type": "code",
   "execution_count": 186,
   "id": "bf2dfe61",
   "metadata": {},
   "outputs": [],
   "source": [
    "A = AverageYear(r)"
   ]
  },
  {
   "cell_type": "code",
   "execution_count": 189,
   "id": "5b6a2aa7",
   "metadata": {},
   "outputs": [
    {
     "ename": "JSONDecodeError",
     "evalue": "Expecting value: line 1 column 2 (char 1)",
     "output_type": "error",
     "traceback": [
      "\u001b[1;31m---------------------------------------------------------------------------\u001b[0m",
      "\u001b[1;31mJSONDecodeError\u001b[0m                           Traceback (most recent call last)",
      "Cell \u001b[1;32mIn [189], line 1\u001b[0m\n\u001b[1;32m----> 1\u001b[0m \u001b[43mA\u001b[49m\u001b[38;5;241;43m.\u001b[39;49m\u001b[43mcompute_average\u001b[49m\u001b[43m(\u001b[49m\u001b[43m)\u001b[49m\n",
      "Cell \u001b[1;32mIn [185], line 12\u001b[0m, in \u001b[0;36mAverageYear.compute_average\u001b[1;34m(self)\u001b[0m\n\u001b[0;32m     10\u001b[0m         \u001b[38;5;28;01mbreak\u001b[39;00m\n\u001b[0;32m     11\u001b[0m     \u001b[38;5;28;01mfor\u001b[39;00m line \u001b[38;5;129;01min\u001b[39;00m lines:\n\u001b[1;32m---> 12\u001b[0m         row \u001b[38;5;241m=\u001b[39m \u001b[43mjson\u001b[49m\u001b[38;5;241;43m.\u001b[39;49m\u001b[43mloads\u001b[49m\u001b[43m(\u001b[49m\u001b[43mline\u001b[49m\u001b[43m)\u001b[49m\n\u001b[0;32m     13\u001b[0m         \u001b[38;5;28mself\u001b[39m\u001b[38;5;241m.\u001b[39mdata\u001b[38;5;241m.\u001b[39mappend(row)\n\u001b[0;32m     14\u001b[0m df \u001b[38;5;241m=\u001b[39m pd\u001b[38;5;241m.\u001b[39mDataFrame(\u001b[38;5;28mself\u001b[39m\u001b[38;5;241m.\u001b[39mdata)\n",
      "File \u001b[1;32m~\\anaconda3\\lib\\json\\__init__.py:346\u001b[0m, in \u001b[0;36mloads\u001b[1;34m(s, cls, object_hook, parse_float, parse_int, parse_constant, object_pairs_hook, **kw)\u001b[0m\n\u001b[0;32m    341\u001b[0m     s \u001b[38;5;241m=\u001b[39m s\u001b[38;5;241m.\u001b[39mdecode(detect_encoding(s), \u001b[38;5;124m'\u001b[39m\u001b[38;5;124msurrogatepass\u001b[39m\u001b[38;5;124m'\u001b[39m)\n\u001b[0;32m    343\u001b[0m \u001b[38;5;28;01mif\u001b[39;00m (\u001b[38;5;28mcls\u001b[39m \u001b[38;5;129;01mis\u001b[39;00m \u001b[38;5;28;01mNone\u001b[39;00m \u001b[38;5;129;01mand\u001b[39;00m object_hook \u001b[38;5;129;01mis\u001b[39;00m \u001b[38;5;28;01mNone\u001b[39;00m \u001b[38;5;129;01mand\u001b[39;00m\n\u001b[0;32m    344\u001b[0m         parse_int \u001b[38;5;129;01mis\u001b[39;00m \u001b[38;5;28;01mNone\u001b[39;00m \u001b[38;5;129;01mand\u001b[39;00m parse_float \u001b[38;5;129;01mis\u001b[39;00m \u001b[38;5;28;01mNone\u001b[39;00m \u001b[38;5;129;01mand\u001b[39;00m\n\u001b[0;32m    345\u001b[0m         parse_constant \u001b[38;5;129;01mis\u001b[39;00m \u001b[38;5;28;01mNone\u001b[39;00m \u001b[38;5;129;01mand\u001b[39;00m object_pairs_hook \u001b[38;5;129;01mis\u001b[39;00m \u001b[38;5;28;01mNone\u001b[39;00m \u001b[38;5;129;01mand\u001b[39;00m \u001b[38;5;129;01mnot\u001b[39;00m kw):\n\u001b[1;32m--> 346\u001b[0m     \u001b[38;5;28;01mreturn\u001b[39;00m \u001b[43m_default_decoder\u001b[49m\u001b[38;5;241;43m.\u001b[39;49m\u001b[43mdecode\u001b[49m\u001b[43m(\u001b[49m\u001b[43ms\u001b[49m\u001b[43m)\u001b[49m\n\u001b[0;32m    347\u001b[0m \u001b[38;5;28;01mif\u001b[39;00m \u001b[38;5;28mcls\u001b[39m \u001b[38;5;129;01mis\u001b[39;00m \u001b[38;5;28;01mNone\u001b[39;00m:\n\u001b[0;32m    348\u001b[0m     \u001b[38;5;28mcls\u001b[39m \u001b[38;5;241m=\u001b[39m JSONDecoder\n",
      "File \u001b[1;32m~\\anaconda3\\lib\\json\\decoder.py:337\u001b[0m, in \u001b[0;36mJSONDecoder.decode\u001b[1;34m(self, s, _w)\u001b[0m\n\u001b[0;32m    332\u001b[0m \u001b[38;5;28;01mdef\u001b[39;00m \u001b[38;5;21mdecode\u001b[39m(\u001b[38;5;28mself\u001b[39m, s, _w\u001b[38;5;241m=\u001b[39mWHITESPACE\u001b[38;5;241m.\u001b[39mmatch):\n\u001b[0;32m    333\u001b[0m     \u001b[38;5;124;03m\"\"\"Return the Python representation of ``s`` (a ``str`` instance\u001b[39;00m\n\u001b[0;32m    334\u001b[0m \u001b[38;5;124;03m    containing a JSON document).\u001b[39;00m\n\u001b[0;32m    335\u001b[0m \n\u001b[0;32m    336\u001b[0m \u001b[38;5;124;03m    \"\"\"\u001b[39;00m\n\u001b[1;32m--> 337\u001b[0m     obj, end \u001b[38;5;241m=\u001b[39m \u001b[38;5;28;43mself\u001b[39;49m\u001b[38;5;241;43m.\u001b[39;49m\u001b[43mraw_decode\u001b[49m\u001b[43m(\u001b[49m\u001b[43ms\u001b[49m\u001b[43m,\u001b[49m\u001b[43m \u001b[49m\u001b[43midx\u001b[49m\u001b[38;5;241;43m=\u001b[39;49m\u001b[43m_w\u001b[49m\u001b[43m(\u001b[49m\u001b[43ms\u001b[49m\u001b[43m,\u001b[49m\u001b[43m \u001b[49m\u001b[38;5;241;43m0\u001b[39;49m\u001b[43m)\u001b[49m\u001b[38;5;241;43m.\u001b[39;49m\u001b[43mend\u001b[49m\u001b[43m(\u001b[49m\u001b[43m)\u001b[49m\u001b[43m)\u001b[49m\n\u001b[0;32m    338\u001b[0m     end \u001b[38;5;241m=\u001b[39m _w(s, end)\u001b[38;5;241m.\u001b[39mend()\n\u001b[0;32m    339\u001b[0m     \u001b[38;5;28;01mif\u001b[39;00m end \u001b[38;5;241m!=\u001b[39m \u001b[38;5;28mlen\u001b[39m(s):\n",
      "File \u001b[1;32m~\\anaconda3\\lib\\json\\decoder.py:355\u001b[0m, in \u001b[0;36mJSONDecoder.raw_decode\u001b[1;34m(self, s, idx)\u001b[0m\n\u001b[0;32m    353\u001b[0m     obj, end \u001b[38;5;241m=\u001b[39m \u001b[38;5;28mself\u001b[39m\u001b[38;5;241m.\u001b[39mscan_once(s, idx)\n\u001b[0;32m    354\u001b[0m \u001b[38;5;28;01mexcept\u001b[39;00m \u001b[38;5;167;01mStopIteration\u001b[39;00m \u001b[38;5;28;01mas\u001b[39;00m err:\n\u001b[1;32m--> 355\u001b[0m     \u001b[38;5;28;01mraise\u001b[39;00m JSONDecodeError(\u001b[38;5;124m\"\u001b[39m\u001b[38;5;124mExpecting value\u001b[39m\u001b[38;5;124m\"\u001b[39m, s, err\u001b[38;5;241m.\u001b[39mvalue) \u001b[38;5;28;01mfrom\u001b[39;00m \u001b[38;5;28mNone\u001b[39m\n\u001b[0;32m    356\u001b[0m \u001b[38;5;28;01mreturn\u001b[39;00m obj, end\n",
      "\u001b[1;31mJSONDecodeError\u001b[0m: Expecting value: line 1 column 2 (char 1)"
     ]
    }
   ],
   "source": [
    "A.compute_average()"
   ]
  },
  {
   "cell_type": "markdown",
   "id": "25474184",
   "metadata": {},
   "source": [
    "## class AverageMonth"
   ]
  },
  {
   "cell_type": "code",
   "execution_count": null,
   "id": "bc3b4593",
   "metadata": {},
   "outputs": [],
   "source": []
  }
 ],
 "metadata": {
  "kernelspec": {
   "display_name": "Python 3 (ipykernel)",
   "language": "python",
   "name": "python3"
  },
  "language_info": {
   "codemirror_mode": {
    "name": "ipython",
    "version": 3
   },
   "file_extension": ".py",
   "mimetype": "text/x-python",
   "name": "python",
   "nbconvert_exporter": "python",
   "pygments_lexer": "ipython3",
   "version": "3.9.13"
  }
 },
 "nbformat": 4,
 "nbformat_minor": 5
}
