{
 "cells": [
  {
   "cell_type": "markdown",
   "id": "4c6df417",
   "metadata": {},
   "source": [
    "# Exercise 1: refactoring your own code by list comprehension"
   ]
  },
  {
   "cell_type": "markdown",
   "id": "70e383a8",
   "metadata": {},
   "source": [
    "#### There were 2 for loops that I could change to the list comperehension!"
   ]
  },
  {
   "cell_type": "code",
   "execution_count": 1,
   "id": "b4b7f663",
   "metadata": {},
   "outputs": [],
   "source": [
    "import json\n",
    "import linecache as lc\n",
    "import yaml"
   ]
  },
  {
   "cell_type": "code",
   "execution_count": 2,
   "id": "bf44bd31",
   "metadata": {},
   "outputs": [],
   "source": [
    "class CsvConverter:\n",
    "    def __init__(self,file_name, header):\n",
    "        self.file_name = file_name\n",
    "        self.header = header\n",
    "        self.keys = self.header.split(',')\n",
    "\n",
    "    \n",
    "    def convert_csv_to_json(self,lines):\n",
    "        json_list=[]\n",
    "        for line in lines:\n",
    "            try:\n",
    "                assert len(line) == len(self.keys)\n",
    "\n",
    "                json_dict = {key: value for key, value in zip(self.keys, line)}\n",
    "                json_list.append(json_dict)\n",
    "            except AssertionError:\n",
    "                print (\"Number of items in line does not match the number of keys in header.\")\n",
    "            \n",
    "        return json.dumps(json_list)\n",
    "        "
   ]
  },
  {
   "cell_type": "code",
   "execution_count": 4,
   "id": "baa8bd72",
   "metadata": {},
   "outputs": [],
   "source": [
    "class Reader:\n",
    "    \n",
    "    def __init__(self, location, csvconverter):\n",
    "        self.location = location\n",
    "        self.csvconverter = csvconverter\n",
    "        self.starter =2\n",
    "        \n",
    "    def get_lines(self): \n",
    "        lines_list= [lc.getline(self.csvconverter.file_name,i).strip().split(',') for i in range(self.starter, self.starter + 4)]\n",
    "        self.starter = self.starter + 4\n",
    "        return (self.csvconverter.convert_csv_to_json(lines_list))"
   ]
  },
  {
   "cell_type": "code",
   "execution_count": 5,
   "id": "1ccdd33b",
   "metadata": {},
   "outputs": [],
   "source": [
    "with open('../config.yaml','r') as stream:\n",
    "    config = yaml.safe_load(stream)\n",
    "file_path = config['dsst']\n",
    "\n",
    "header = lc.getline(file_path,1).strip()\n",
    "r = Reader(file_path, CsvConverter('dSST.csv',header))"
   ]
  },
  {
   "cell_type": "code",
   "execution_count": 8,
   "id": "b16b50d4",
   "metadata": {},
   "outputs": [
    {
     "data": {
      "text/plain": [
       "'[{\"Year\": \"1889\", \"Jan\": \"-.08\", \"Feb\": \".17\", \"Mar\": \".07\", \"Apr\": \".10\", \"May\": \".00\", \"Jun\": \"-.09\", \"Jul\": \"-.07\", \"Aug\": \"-.20\", \"Sep\": \"-.23\", \"Oct\": \"-.25\", \"Nov\": \"-.33\", \"Dec\": \"-.28\", \"J-D\": \"-.10\", \"D-N\": \"-.08\", \"DJF\": \".02\", \"MAM\": \".06\", \"JJA\": \"-.12\", \"SON\": \"-.27\"}, {\"Year\": \"1890\", \"Jan\": \"-.41\", \"Feb\": \"-.44\", \"Mar\": \"-.39\", \"Apr\": \"-.29\", \"May\": \"-.38\", \"Jun\": \"-.24\", \"Jul\": \"-.27\", \"Aug\": \"-.38\", \"Sep\": \"-.36\", \"Oct\": \"-.24\", \"Nov\": \"-.43\", \"Dec\": \"-.30\", \"J-D\": \"-.34\", \"D-N\": \"-.34\", \"DJF\": \"-.38\", \"MAM\": \"-.35\", \"JJA\": \"-.30\", \"SON\": \"-.34\"}, {\"Year\": \"1891\", \"Jan\": \"-.33\", \"Feb\": \"-.46\", \"Mar\": \"-.18\", \"Apr\": \"-.27\", \"May\": \"-.16\", \"Jun\": \"-.20\", \"Jul\": \"-.17\", \"Aug\": \"-.17\", \"Sep\": \"-.15\", \"Oct\": \"-.21\", \"Nov\": \"-.31\", \"Dec\": \"-.04\", \"J-D\": \"-.22\", \"D-N\": \"-.24\", \"DJF\": \"-.37\", \"MAM\": \"-.20\", \"JJA\": \"-.18\", \"SON\": \"-.22\"}, {\"Year\": \"1892\", \"Jan\": \"-.28\", \"Feb\": \"-.10\", \"Mar\": \"-.40\", \"Apr\": \"-.33\", \"May\": \"-.23\", \"Jun\": \"-.22\", \"Jul\": \"-.31\", \"Aug\": \"-.27\", \"Sep\": \"-.16\", \"Oct\": \"-.14\", \"Nov\": \"-.41\", \"Dec\": \"-.38\", \"J-D\": \"-.27\", \"D-N\": \"-.24\", \"DJF\": \"-.14\", \"MAM\": \"-.32\", \"JJA\": \"-.27\", \"SON\": \"-.24\"}]'"
      ]
     },
     "execution_count": 8,
     "metadata": {},
     "output_type": "execute_result"
    }
   ],
   "source": [
    "r.get_lines()"
   ]
  },
  {
   "cell_type": "markdown",
   "id": "f3ddaa5d",
   "metadata": {},
   "source": [
    "# Exercise 2: functions with data"
   ]
  },
  {
   "cell_type": "code",
   "execution_count": 1,
   "id": "18056962",
   "metadata": {},
   "outputs": [],
   "source": [
    "def convertion (data, function):\n",
    "    '''\n",
    "    This function gets data as a list, and a function.\n",
    "    Return: a new list that is calculated by the function.\n",
    "    '''\n",
    "    list_output= [function(i) for i in data]\n",
    "    return list_output\n",
    "        "
   ]
  },
  {
   "cell_type": "code",
   "execution_count": 2,
   "id": "3a3d7109",
   "metadata": {},
   "outputs": [
    {
     "data": {
      "text/plain": [
       "[1, 4, 9, 16]"
      ]
     },
     "execution_count": 2,
     "metadata": {},
     "output_type": "execute_result"
    }
   ],
   "source": [
    "convertion([1,2,3,4], lambda x: x**2)"
   ]
  },
  {
   "cell_type": "code",
   "execution_count": 15,
   "id": "2082b77b",
   "metadata": {},
   "outputs": [],
   "source": [
    "def improved_convention (data, *function):\n",
    "    '''\n",
    "    This function gets data as a list and (optional) functions.\n",
    "    Returns: a list of lists that each list contains the answer based on each function\n",
    "    '''\n",
    "    list_output = []\n",
    "    for fn in function:\n",
    "        list_output.append([fn(i) for i in data])\n",
    "    return list_output"
   ]
  },
  {
   "cell_type": "code",
   "execution_count": 16,
   "id": "42b197f8",
   "metadata": {},
   "outputs": [
    {
     "data": {
      "text/plain": [
       "[[1, 4, 9, 16], [1, 8, 27, 64]]"
      ]
     },
     "execution_count": 16,
     "metadata": {},
     "output_type": "execute_result"
    }
   ],
   "source": [
    "improved_convention([1,2,3,4], lambda x : x**2, lambda y: y**3)"
   ]
  },
  {
   "cell_type": "code",
   "execution_count": 22,
   "id": "9213759e",
   "metadata": {},
   "outputs": [],
   "source": [
    "def improved_convention_v2 (data, *function):\n",
    "    '''\n",
    "    This is the previous function, in the way of list comprehension.\n",
    "    '''\n",
    "    return [[fn(i) for i in data] for fn in function]\n"
   ]
  },
  {
   "cell_type": "code",
   "execution_count": 23,
   "id": "97e8588c",
   "metadata": {},
   "outputs": [
    {
     "data": {
      "text/plain": [
       "[[1, 4, 9, 16], [1, 8, 27, 64]]"
      ]
     },
     "execution_count": 23,
     "metadata": {},
     "output_type": "execute_result"
    }
   ],
   "source": [
    "improved_convention_v2([1,2,3,4], lambda x : x**2, lambda y: y**3)"
   ]
  },
  {
   "cell_type": "markdown",
   "id": "91174286",
   "metadata": {},
   "source": [
    "# Exercise 3: refactoring other people's code"
   ]
  },
  {
   "cell_type": "markdown",
   "id": "7b3e28b8",
   "metadata": {},
   "source": [
    "## It is done in two separated .py files named: crawler.py and main.py"
   ]
  }
 ],
 "metadata": {
  "kernelspec": {
   "display_name": "Python 3 (ipykernel)",
   "language": "python",
   "name": "python3"
  },
  "language_info": {
   "codemirror_mode": {
    "name": "ipython",
    "version": 3
   },
   "file_extension": ".py",
   "mimetype": "text/x-python",
   "name": "python",
   "nbconvert_exporter": "python",
   "pygments_lexer": "ipython3",
   "version": "3.9.13"
  }
 },
 "nbformat": 4,
 "nbformat_minor": 5
}
