{
 "cells": [
  {
   "cell_type": "code",
   "execution_count": 1,
   "id": "9185327d",
   "metadata": {},
   "outputs": [],
   "source": [
    "import dask.dataframe as dd\n",
    "import pandas as pd\n",
    "import os\n",
    "import yaml\n",
    "\n",
    "from dask.distributed import Client"
   ]
  },
  {
   "cell_type": "markdown",
   "id": "15c2faa8",
   "metadata": {},
   "source": [
    "Good; and in this case, Notebook is a good choice for your tooling."
   ]
  },
  {
   "cell_type": "code",
   "execution_count": 62,
   "id": "f6486fb2",
   "metadata": {},
   "outputs": [],
   "source": [
    "client = Client(n_workers = 16)"
   ]
  },
  {
   "cell_type": "code",
   "execution_count": 63,
   "id": "058725f6",
   "metadata": {},
   "outputs": [],
   "source": [
    "# client.shutdown()"
   ]
  },
  {
   "cell_type": "code",
   "execution_count": 86,
   "id": "343511f4",
   "metadata": {},
   "outputs": [
    {
     "data": {
      "text/html": [
       "<div><strong>Dask DataFrame Structure:</strong></div>\n",
       "<div>\n",
       "<style scoped>\n",
       "    .dataframe tbody tr th:only-of-type {\n",
       "        vertical-align: middle;\n",
       "    }\n",
       "\n",
       "    .dataframe tbody tr th {\n",
       "        vertical-align: top;\n",
       "    }\n",
       "\n",
       "    .dataframe thead th {\n",
       "        text-align: right;\n",
       "    }\n",
       "</style>\n",
       "<table border=\"1\" class=\"dataframe\">\n",
       "  <thead>\n",
       "    <tr style=\"text-align: right;\">\n",
       "      <th></th>\n",
       "      <th>gi|29898682|gb|AAP11954.1|</th>\n",
       "      <th>92d1264e347e149248231cb9b649388c</th>\n",
       "      <th>547</th>\n",
       "      <th>TIGRFAM</th>\n",
       "      <th>TIGR03882</th>\n",
       "      <th>cyclo_dehyd_2: bacteriocin biosynthesis cyclodehydratase domain</th>\n",
       "      <th>2</th>\n",
       "      <th>131</th>\n",
       "      <th>1.6E-21</th>\n",
       "      <th>T</th>\n",
       "      <th>25-04-2022</th>\n",
       "      <th>IPR022291</th>\n",
       "      <th>Bacteriocin biosynthesis, cyclodehydratase domain</th>\n",
       "      <th>-</th>\n",
       "      <th>-.1</th>\n",
       "    </tr>\n",
       "    <tr>\n",
       "      <th>npartitions=174</th>\n",
       "      <th></th>\n",
       "      <th></th>\n",
       "      <th></th>\n",
       "      <th></th>\n",
       "      <th></th>\n",
       "      <th></th>\n",
       "      <th></th>\n",
       "      <th></th>\n",
       "      <th></th>\n",
       "      <th></th>\n",
       "      <th></th>\n",
       "      <th></th>\n",
       "      <th></th>\n",
       "      <th></th>\n",
       "      <th></th>\n",
       "    </tr>\n",
       "  </thead>\n",
       "  <tbody>\n",
       "    <tr>\n",
       "      <th></th>\n",
       "      <td>object</td>\n",
       "      <td>object</td>\n",
       "      <td>int64</td>\n",
       "      <td>object</td>\n",
       "      <td>object</td>\n",
       "      <td>object</td>\n",
       "      <td>int64</td>\n",
       "      <td>int64</td>\n",
       "      <td>float64</td>\n",
       "      <td>object</td>\n",
       "      <td>object</td>\n",
       "      <td>object</td>\n",
       "      <td>object</td>\n",
       "      <td>object</td>\n",
       "      <td>object</td>\n",
       "    </tr>\n",
       "    <tr>\n",
       "      <th></th>\n",
       "      <td>...</td>\n",
       "      <td>...</td>\n",
       "      <td>...</td>\n",
       "      <td>...</td>\n",
       "      <td>...</td>\n",
       "      <td>...</td>\n",
       "      <td>...</td>\n",
       "      <td>...</td>\n",
       "      <td>...</td>\n",
       "      <td>...</td>\n",
       "      <td>...</td>\n",
       "      <td>...</td>\n",
       "      <td>...</td>\n",
       "      <td>...</td>\n",
       "      <td>...</td>\n",
       "    </tr>\n",
       "    <tr>\n",
       "      <th>...</th>\n",
       "      <td>...</td>\n",
       "      <td>...</td>\n",
       "      <td>...</td>\n",
       "      <td>...</td>\n",
       "      <td>...</td>\n",
       "      <td>...</td>\n",
       "      <td>...</td>\n",
       "      <td>...</td>\n",
       "      <td>...</td>\n",
       "      <td>...</td>\n",
       "      <td>...</td>\n",
       "      <td>...</td>\n",
       "      <td>...</td>\n",
       "      <td>...</td>\n",
       "      <td>...</td>\n",
       "    </tr>\n",
       "    <tr>\n",
       "      <th></th>\n",
       "      <td>...</td>\n",
       "      <td>...</td>\n",
       "      <td>...</td>\n",
       "      <td>...</td>\n",
       "      <td>...</td>\n",
       "      <td>...</td>\n",
       "      <td>...</td>\n",
       "      <td>...</td>\n",
       "      <td>...</td>\n",
       "      <td>...</td>\n",
       "      <td>...</td>\n",
       "      <td>...</td>\n",
       "      <td>...</td>\n",
       "      <td>...</td>\n",
       "      <td>...</td>\n",
       "    </tr>\n",
       "    <tr>\n",
       "      <th></th>\n",
       "      <td>...</td>\n",
       "      <td>...</td>\n",
       "      <td>...</td>\n",
       "      <td>...</td>\n",
       "      <td>...</td>\n",
       "      <td>...</td>\n",
       "      <td>...</td>\n",
       "      <td>...</td>\n",
       "      <td>...</td>\n",
       "      <td>...</td>\n",
       "      <td>...</td>\n",
       "      <td>...</td>\n",
       "      <td>...</td>\n",
       "      <td>...</td>\n",
       "      <td>...</td>\n",
       "    </tr>\n",
       "  </tbody>\n",
       "</table>\n",
       "</div>\n",
       "<div>Dask Name: read-csv, 1 graph layer</div>"
      ],
      "text/plain": [
       "Dask DataFrame Structure:\n",
       "                gi|29898682|gb|AAP11954.1| 92d1264e347e149248231cb9b649388c    547 TIGRFAM TIGR03882 cyclo_dehyd_2: bacteriocin biosynthesis cyclodehydratase domain      2    131  1.6E-21       T 25-04-2022 IPR022291 Bacteriocin biosynthesis, cyclodehydratase domain       -     -.1\n",
       "npartitions=174                                                                                                                                                                                                                                                                           \n",
       "                                    object                           object  int64  object    object                                                          object  int64  int64  float64  object     object    object                                            object  object  object\n",
       "                                       ...                              ...    ...     ...       ...                                                             ...    ...    ...      ...     ...        ...       ...                                               ...     ...     ...\n",
       "...                                    ...                              ...    ...     ...       ...                                                             ...    ...    ...      ...     ...        ...       ...                                               ...     ...     ...\n",
       "                                       ...                              ...    ...     ...       ...                                                             ...    ...    ...      ...     ...        ...       ...                                               ...     ...     ...\n",
       "                                       ...                              ...    ...     ...       ...                                                             ...    ...    ...      ...     ...        ...       ...                                               ...     ...     ...\n",
       "Dask Name: read-csv, 1 graph layer"
      ]
     },
     "execution_count": 86,
     "metadata": {},
     "output_type": "execute_result"
    }
   ],
   "source": [
    "# load the data\n",
    "\n",
    "#make a config file\n",
    "\n",
    "with open('../config.yaml','r') as stream:\n",
    "    config = yaml.safe_load(stream)\n",
    "file_path = config['bacilli']\n",
    "\n",
    "df = dd.read_csv(file_path, delimiter = \"\\t\")\n",
    "df"
   ]
  },
  {
   "cell_type": "code",
   "execution_count": 66,
   "id": "f127bac0",
   "metadata": {},
   "outputs": [
    {
     "data": {
      "text/plain": [
       "(Delayed('int-93d63cbc-c048-48aa-8a63-b0efc7f1d607'), 15)"
      ]
     },
     "execution_count": 66,
     "metadata": {},
     "output_type": "execute_result"
    }
   ],
   "source": [
    "df.shape"
   ]
  },
  {
   "cell_type": "code",
   "execution_count": 67,
   "id": "4956d9cd",
   "metadata": {},
   "outputs": [
    {
     "data": {
      "text/html": [
       "<div><strong>Dask DataFrame Structure:</strong></div>\n",
       "<div>\n",
       "<style scoped>\n",
       "    .dataframe tbody tr th:only-of-type {\n",
       "        vertical-align: middle;\n",
       "    }\n",
       "\n",
       "    .dataframe tbody tr th {\n",
       "        vertical-align: top;\n",
       "    }\n",
       "\n",
       "    .dataframe thead th {\n",
       "        text-align: right;\n",
       "    }\n",
       "</style>\n",
       "<table border=\"1\" class=\"dataframe\">\n",
       "  <thead>\n",
       "    <tr style=\"text-align: right;\">\n",
       "      <th></th>\n",
       "      <th>protein_accesion</th>\n",
       "      <th>MD5</th>\n",
       "      <th>length</th>\n",
       "      <th>analysis</th>\n",
       "      <th>signature_accession</th>\n",
       "      <th>signature_description</th>\n",
       "      <th>start_loc</th>\n",
       "      <th>stop_loc</th>\n",
       "      <th>score</th>\n",
       "      <th>status</th>\n",
       "      <th>date</th>\n",
       "      <th>ip_annot_accession</th>\n",
       "      <th>ip_annot_desc</th>\n",
       "      <th>GO_annotation</th>\n",
       "      <th>pathway</th>\n",
       "    </tr>\n",
       "    <tr>\n",
       "      <th>npartitions=174</th>\n",
       "      <th></th>\n",
       "      <th></th>\n",
       "      <th></th>\n",
       "      <th></th>\n",
       "      <th></th>\n",
       "      <th></th>\n",
       "      <th></th>\n",
       "      <th></th>\n",
       "      <th></th>\n",
       "      <th></th>\n",
       "      <th></th>\n",
       "      <th></th>\n",
       "      <th></th>\n",
       "      <th></th>\n",
       "      <th></th>\n",
       "    </tr>\n",
       "  </thead>\n",
       "  <tbody>\n",
       "    <tr>\n",
       "      <th></th>\n",
       "      <td>object</td>\n",
       "      <td>object</td>\n",
       "      <td>int64</td>\n",
       "      <td>object</td>\n",
       "      <td>object</td>\n",
       "      <td>object</td>\n",
       "      <td>int64</td>\n",
       "      <td>int64</td>\n",
       "      <td>object</td>\n",
       "      <td>object</td>\n",
       "      <td>object</td>\n",
       "      <td>object</td>\n",
       "      <td>object</td>\n",
       "      <td>object</td>\n",
       "      <td>object</td>\n",
       "    </tr>\n",
       "    <tr>\n",
       "      <th></th>\n",
       "      <td>...</td>\n",
       "      <td>...</td>\n",
       "      <td>...</td>\n",
       "      <td>...</td>\n",
       "      <td>...</td>\n",
       "      <td>...</td>\n",
       "      <td>...</td>\n",
       "      <td>...</td>\n",
       "      <td>...</td>\n",
       "      <td>...</td>\n",
       "      <td>...</td>\n",
       "      <td>...</td>\n",
       "      <td>...</td>\n",
       "      <td>...</td>\n",
       "      <td>...</td>\n",
       "    </tr>\n",
       "    <tr>\n",
       "      <th>...</th>\n",
       "      <td>...</td>\n",
       "      <td>...</td>\n",
       "      <td>...</td>\n",
       "      <td>...</td>\n",
       "      <td>...</td>\n",
       "      <td>...</td>\n",
       "      <td>...</td>\n",
       "      <td>...</td>\n",
       "      <td>...</td>\n",
       "      <td>...</td>\n",
       "      <td>...</td>\n",
       "      <td>...</td>\n",
       "      <td>...</td>\n",
       "      <td>...</td>\n",
       "      <td>...</td>\n",
       "    </tr>\n",
       "    <tr>\n",
       "      <th></th>\n",
       "      <td>...</td>\n",
       "      <td>...</td>\n",
       "      <td>...</td>\n",
       "      <td>...</td>\n",
       "      <td>...</td>\n",
       "      <td>...</td>\n",
       "      <td>...</td>\n",
       "      <td>...</td>\n",
       "      <td>...</td>\n",
       "      <td>...</td>\n",
       "      <td>...</td>\n",
       "      <td>...</td>\n",
       "      <td>...</td>\n",
       "      <td>...</td>\n",
       "      <td>...</td>\n",
       "    </tr>\n",
       "    <tr>\n",
       "      <th></th>\n",
       "      <td>...</td>\n",
       "      <td>...</td>\n",
       "      <td>...</td>\n",
       "      <td>...</td>\n",
       "      <td>...</td>\n",
       "      <td>...</td>\n",
       "      <td>...</td>\n",
       "      <td>...</td>\n",
       "      <td>...</td>\n",
       "      <td>...</td>\n",
       "      <td>...</td>\n",
       "      <td>...</td>\n",
       "      <td>...</td>\n",
       "      <td>...</td>\n",
       "      <td>...</td>\n",
       "    </tr>\n",
       "  </tbody>\n",
       "</table>\n",
       "</div>\n",
       "<div>Dask Name: read-csv, 1 graph layer</div>"
      ],
      "text/plain": [
       "Dask DataFrame Structure:\n",
       "                protein_accesion     MD5 length analysis signature_accession signature_description start_loc stop_loc   score  status    date ip_annot_accession ip_annot_desc GO_annotation pathway\n",
       "npartitions=174                                                                                                                                                                                     \n",
       "                          object  object  int64   object              object                object     int64    int64  object  object  object             object        object        object  object\n",
       "                             ...     ...    ...      ...                 ...                   ...       ...      ...     ...     ...     ...                ...           ...           ...     ...\n",
       "...                          ...     ...    ...      ...                 ...                   ...       ...      ...     ...     ...     ...                ...           ...           ...     ...\n",
       "                             ...     ...    ...      ...                 ...                   ...       ...      ...     ...     ...     ...                ...           ...           ...     ...\n",
       "                             ...     ...    ...      ...                 ...                   ...       ...      ...     ...     ...     ...                ...           ...           ...     ...\n",
       "Dask Name: read-csv, 1 graph layer"
      ]
     },
     "execution_count": 67,
     "metadata": {},
     "output_type": "execute_result"
    }
   ],
   "source": [
    "# Change col names and type of one column\n",
    "dtypes = {'score': object}\n",
    "colnames = ['protein_accesion', 'MD5', 'length', 'analysis', 'signature_accession', 'signature_description', 'start_loc',\n",
    "'stop_loc', 'score', 'status', 'date', 'ip_annot_accession', 'ip_annot_desc', 'GO_annotation', 'pathway']\n",
    "df = dd.read_csv(file_path, delimiter=\"\\t\", names=colnames,dtype = dtypes)\n",
    "df"
   ]
  },
  {
   "cell_type": "code",
   "execution_count": 68,
   "id": "aeb4b6ca",
   "metadata": {
    "scrolled": true
   },
   "outputs": [
    {
     "data": {
      "text/html": [
       "<div>\n",
       "<style scoped>\n",
       "    .dataframe tbody tr th:only-of-type {\n",
       "        vertical-align: middle;\n",
       "    }\n",
       "\n",
       "    .dataframe tbody tr th {\n",
       "        vertical-align: top;\n",
       "    }\n",
       "\n",
       "    .dataframe thead th {\n",
       "        text-align: right;\n",
       "    }\n",
       "</style>\n",
       "<table border=\"1\" class=\"dataframe\">\n",
       "  <thead>\n",
       "    <tr style=\"text-align: right;\">\n",
       "      <th></th>\n",
       "      <th>protein_accesion</th>\n",
       "      <th>MD5</th>\n",
       "      <th>length</th>\n",
       "      <th>analysis</th>\n",
       "      <th>signature_accession</th>\n",
       "      <th>signature_description</th>\n",
       "      <th>start_loc</th>\n",
       "      <th>stop_loc</th>\n",
       "      <th>score</th>\n",
       "      <th>status</th>\n",
       "      <th>date</th>\n",
       "      <th>ip_annot_accession</th>\n",
       "      <th>ip_annot_desc</th>\n",
       "      <th>GO_annotation</th>\n",
       "      <th>pathway</th>\n",
       "    </tr>\n",
       "  </thead>\n",
       "  <tbody>\n",
       "    <tr>\n",
       "      <th>0</th>\n",
       "      <td>gi|29898682|gb|AAP11954.1|</td>\n",
       "      <td>92d1264e347e149248231cb9b649388c</td>\n",
       "      <td>547</td>\n",
       "      <td>TIGRFAM</td>\n",
       "      <td>TIGR03882</td>\n",
       "      <td>cyclo_dehyd_2: bacteriocin biosynthesis cyclod...</td>\n",
       "      <td>2</td>\n",
       "      <td>131</td>\n",
       "      <td>1.6E-21</td>\n",
       "      <td>T</td>\n",
       "      <td>25-04-2022</td>\n",
       "      <td>IPR022291</td>\n",
       "      <td>Bacteriocin biosynthesis, cyclodehydratase domain</td>\n",
       "      <td>-</td>\n",
       "      <td>-</td>\n",
       "    </tr>\n",
       "    <tr>\n",
       "      <th>1</th>\n",
       "      <td>gi|29898682|gb|AAP11954.1|</td>\n",
       "      <td>92d1264e347e149248231cb9b649388c</td>\n",
       "      <td>547</td>\n",
       "      <td>TIGRFAM</td>\n",
       "      <td>TIGR03604</td>\n",
       "      <td>TOMM_cyclo_SagD: thiazole/oxazole-forming pept...</td>\n",
       "      <td>161</td>\n",
       "      <td>547</td>\n",
       "      <td>0.0</td>\n",
       "      <td>T</td>\n",
       "      <td>25-04-2022</td>\n",
       "      <td>IPR027624</td>\n",
       "      <td>Thiazole/oxazole-forming peptide maturase, Sag...</td>\n",
       "      <td>-</td>\n",
       "      <td>-</td>\n",
       "    </tr>\n",
       "  </tbody>\n",
       "</table>\n",
       "</div>"
      ],
      "text/plain": [
       "             protein_accesion                               MD5  length  \\\n",
       "0  gi|29898682|gb|AAP11954.1|  92d1264e347e149248231cb9b649388c     547   \n",
       "1  gi|29898682|gb|AAP11954.1|  92d1264e347e149248231cb9b649388c     547   \n",
       "\n",
       "  analysis signature_accession  \\\n",
       "0  TIGRFAM           TIGR03882   \n",
       "1  TIGRFAM           TIGR03604   \n",
       "\n",
       "                               signature_description  start_loc  stop_loc  \\\n",
       "0  cyclo_dehyd_2: bacteriocin biosynthesis cyclod...          2       131   \n",
       "1  TOMM_cyclo_SagD: thiazole/oxazole-forming pept...        161       547   \n",
       "\n",
       "     score status        date ip_annot_accession  \\\n",
       "0  1.6E-21      T  25-04-2022          IPR022291   \n",
       "1      0.0      T  25-04-2022          IPR027624   \n",
       "\n",
       "                                       ip_annot_desc GO_annotation pathway  \n",
       "0  Bacteriocin biosynthesis, cyclodehydratase domain             -       -  \n",
       "1  Thiazole/oxazole-forming peptide maturase, Sag...             -       -  "
      ]
     },
     "execution_count": 68,
     "metadata": {},
     "output_type": "execute_result"
    }
   ],
   "source": [
    "df.head(2)"
   ]
  },
  {
   "cell_type": "code",
   "execution_count": 9,
   "id": "b757b5b8",
   "metadata": {},
   "outputs": [
    {
     "name": "stdout",
     "output_type": "stream",
     "text": [
      "Number of distinct protein annotations:  9704\n"
     ]
    }
   ],
   "source": [
    "# Q1 = How many distinct protein annotations are found in the dataset? \n",
    "# I.e. how many distinc InterPRO numbers are there?\n",
    "\n",
    "distinct_annotations = df['ip_annot_accession'].nunique().compute(num_workers=16)\n",
    "print(\"Number of distinct protein annotations: \", distinct_annotations)"
   ]
  },
  {
   "cell_type": "code",
   "execution_count": 10,
   "id": "ada147d1",
   "metadata": {
    "scrolled": true
   },
   "outputs": [
    {
     "name": "stdout",
     "output_type": "stream",
     "text": [
      "Average number of annotations per protein: 11.490524386574391\n"
     ]
    }
   ],
   "source": [
    "# Q2: How many annotations does a protein have on average?\n",
    "\n",
    "average_annotations_per_protein = df.groupby('protein_accesion').size().mean().compute(num_workers=16)\n",
    "print(\"Average number of annotations per protein:\", average_annotations_per_protein)"
   ]
  },
  {
   "cell_type": "code",
   "execution_count": 11,
   "id": "aa2321e9",
   "metadata": {},
   "outputs": [
    {
     "name": "stdout",
     "output_type": "stream",
     "text": [
      "Most common GO Term found:  -\n"
     ]
    }
   ],
   "source": [
    "# Q3: What is the most common GO Term found?\n",
    "\n",
    "most_common_go_term = df['GO_annotation'].value_counts().idxmax().compute(num_workers=16)\n",
    "print(\"Most common GO Term found: \", most_common_go_term)"
   ]
  },
  {
   "cell_type": "code",
   "execution_count": 12,
   "id": "622187bb",
   "metadata": {},
   "outputs": [
    {
     "data": {
      "text/plain": [
       "-                        945977\n",
       "GO:0003700|GO:0006355     33500\n",
       "Name: GO_annotation, dtype: int64"
      ]
     },
     "execution_count": 12,
     "metadata": {},
     "output_type": "execute_result"
    }
   ],
   "source": [
    "# I wanted to find the exact value of GO Term, So I try to find 2 most common:\n",
    "# nlargest(2): the 2 most common GO Term\n",
    "most_common_go_terms = df['GO_annotation'].value_counts().nlargest(2).compute(num_workers=16)\n",
    "most_common_go_terms"
   ]
  },
  {
   "cell_type": "code",
   "execution_count": 13,
   "id": "082ffa66",
   "metadata": {},
   "outputs": [
    {
     "name": "stdout",
     "output_type": "stream",
     "text": [
      "Average size of an InterPRO feature:  408.1892178981481\n"
     ]
    }
   ],
   "source": [
    "# Q4: What is the average size of an InterPRO feature found in the dataset?\n",
    "\n",
    "average_size = df['length'].mean().compute(num_workers=16)\n",
    "print(\"Average size of an InterPRO feature: \", average_size)"
   ]
  },
  {
   "cell_type": "code",
   "execution_count": 14,
   "id": "ef293434",
   "metadata": {},
   "outputs": [
    {
     "name": "stdout",
     "output_type": "stream",
     "text": [
      "Top 10 most common InterPRO features:\n",
      "-            2278774\n",
      "IPR027417      46834\n",
      "IPR002347      18077\n",
      "IPR003439      16944\n",
      "IPR036388      16291\n",
      "IPR036259      12602\n",
      "IPR003593      11521\n",
      "IPR036390      11304\n",
      "IPR036291      10716\n",
      "IPR000515      10613\n",
      "Name: ip_annot_accession, dtype: int64\n"
     ]
    }
   ],
   "source": [
    "# Q5: What is the top 10 most common InterPRO features?\n",
    "top_10_common = df['ip_annot_accession'].value_counts().nlargest(10).compute(num_workers=16)\n",
    "print(\"Top 10 most common InterPRO features:\")\n",
    "print(top_10_common)\n"
   ]
  },
  {
   "cell_type": "code",
   "execution_count": 69,
   "id": "3f2566b4",
   "metadata": {},
   "outputs": [
    {
     "data": {
      "text/plain": [
       "-            2278774\n",
       "IPR027417      46834\n",
       "IPR002347      18077\n",
       "IPR003439      16944\n",
       "IPR036388      16291\n",
       "IPR036259      12602\n",
       "IPR003593      11521\n",
       "IPR036390      11304\n",
       "IPR036291      10716\n",
       "IPR000515      10613\n",
       "Name: ip_annot_accession, dtype: int64"
      ]
     },
     "execution_count": 69,
     "metadata": {},
     "output_type": "execute_result"
    }
   ],
   "source": [
    "# Q6: If you select InterPRO features that are almost the same size (within 90-100%) as the protein itself, \n",
    "# what is the top10 then?\n",
    "\n",
    "protein_size = df['length']\n",
    "\n",
    "filtered_interpro_features = df[abs(df['length'] - protein_size) <= 0.1 * protein_size]\n",
    "top_10_filtered_interpro_features = filtered_interpro_features['ip_annot_accession'].value_counts().nlargest(10).compute()\n",
    "top_10_filtered_interpro_features"
   ]
  },
  {
   "cell_type": "code",
   "execution_count": 20,
   "id": "917f0da9",
   "metadata": {},
   "outputs": [
    {
     "name": "stdout",
     "output_type": "stream",
     "text": [
      "Top 10 most common words in the textual annotations:\n",
      "domain 663290\n",
      "superfamily 324250\n",
      "protein 253203\n",
      "cterminal 102120\n",
      "hydrolase 87803\n",
      "site 74724\n",
      "dnabinding 65120\n",
      "nterminal 64509\n",
      "subunit 62524\n",
      "type 59580\n"
     ]
    }
   ],
   "source": [
    "# Q7: If you look at those features which also have textual annotation, \n",
    "#what is the top 10 most common word found in that annotation?\n",
    "import re\n",
    "from collections import Counter\n",
    "\n",
    "# Extract the textual annotation column from the filtered DataFrame\n",
    "textual_annotations = filtered_interpro_features['ip_annot_desc'].compute(num_workers=16)\n",
    "\n",
    "# Combine all the textual annotations into a single string\n",
    "combined_text = ' '.join(textual_annotations)\n",
    "\n",
    "# Remove non-alphanumeric characters and convert to lowercase\n",
    "cleaned_text = re.sub(r'[^a-zA-Z0-9\\s]', '', combined_text.lower())\n",
    "\n",
    "# Split the cleaned text into individual words\n",
    "words = cleaned_text.split()\n",
    "\n",
    "# Count the occurrences of each word\n",
    "word_counts = Counter(words)\n",
    "\n",
    "# Get the top 10 most common words\n",
    "top_10_common_words = word_counts.most_common(10)\n",
    "\n",
    "print(\"Top 10 most common words in the textual annotations:\")\n",
    "for word, count in top_10_common_words:\n",
    "    print(word, count)"
   ]
  },
  {
   "cell_type": "code",
   "execution_count": 22,
   "id": "2eaa5828",
   "metadata": {},
   "outputs": [
    {
     "name": "stdout",
     "output_type": "stream",
     "text": [
      "Top 10 least common words in the textual annotations:\n",
      "eco47ii 1\n",
      "hopa1 1\n",
      "g39 1\n",
      "duf5659 1\n",
      "moxr 1\n",
      "duf3037 1\n",
      "bromoperoxidasechloroperoxidase 1\n",
      "duf2269 1\n",
      "bacteriophageassociated 1\n",
      "fus7luc3like 1\n"
     ]
    }
   ],
   "source": [
    "# Q8: And the top 10 least common?\n",
    "\n",
    "import re\n",
    "from collections import Counter\n",
    "\n",
    "# Extract the textual annotation column from the filtered DataFrame\n",
    "textual_annotations = filtered_interpro_features['ip_annot_desc'].compute(num_workers=16)\n",
    "\n",
    "# Combine all the textual annotations into a single string\n",
    "combined_text = ' '.join(textual_annotations)\n",
    "\n",
    "# Remove non-alphanumeric characters and convert to lowercase\n",
    "cleaned_text = re.sub(r'[^a-zA-Z0-9\\s]', '', combined_text.lower())\n",
    "\n",
    "# Split the cleaned text into individual words\n",
    "words = cleaned_text.split()\n",
    "\n",
    "# Count the occurrences of each word\n",
    "word_counts = Counter(words)\n",
    "\n",
    "# Get the top 10 least common words\n",
    "top_10_least_common_words = word_counts.most_common()[:-11:-1]\n",
    "\n",
    "print(\"Top 10 least common words in the textual annotations:\")\n",
    "for word, count in top_10_least_common_words:\n",
    "    print(word, count)"
   ]
  },
  {
   "cell_type": "code",
   "execution_count": 70,
   "id": "f8c6bda9",
   "metadata": {},
   "outputs": [
    {
     "name": "stdout",
     "output_type": "stream",
     "text": [
      "10 most common words for the largest InterPRO features:\n",
      "domain 663290\n",
      "superfamily 324250\n",
      "protein 253203\n",
      "cterminal 102120\n",
      "hydrolase 87803\n",
      "site 74724\n",
      "dnabinding 65120\n",
      "nterminal 64509\n",
      "subunit 62524\n",
      "type 59580\n"
     ]
    }
   ],
   "source": [
    "# Q9: Combining your answers for Q6 and Q7, \n",
    "#what are the 10 most commons words found for the largest InterPRO features?\n",
    "\n",
    "import re\n",
    "from collections import Counter\n",
    "\n",
    "# Filter the DataFrame to include InterPRO features that are almost the same size as the protein\n",
    "protein_size = df['length']\n",
    "filtered_interpro_features = df[abs(df['length'] - protein_size) <= 0.1 * protein_size]\n",
    "\n",
    "# Extract the textual annotation column from the filtered DataFrame\n",
    "textual_annotations = filtered_interpro_features['ip_annot_desc'].compute(num_workers=16)\n",
    "\n",
    "# Combine all the textual annotations into a single string\n",
    "combined_text = ' '.join(textual_annotations)\n",
    "\n",
    "# Remove non-alphanumeric characters and convert to lowercase\n",
    "cleaned_text = re.sub(r'[^a-zA-Z0-9\\s]', '', combined_text.lower())\n",
    "\n",
    "# Split the cleaned text into individual words\n",
    "words = cleaned_text.split()\n",
    "\n",
    "# Count the occurrences of each word\n",
    "word_counts = Counter(words)\n",
    "\n",
    "# Get the 10 most common words\n",
    "top_10_common_words = word_counts.most_common(10)\n",
    "\n",
    "print(\"10 most common words for the largest InterPRO features:\")\n",
    "for word, count in top_10_common_words:\n",
    "    print(word, count)\n"
   ]
  },
  {
   "cell_type": "code",
   "execution_count": 83,
   "id": "6a4141d2",
   "metadata": {
    "scrolled": false
   },
   "outputs": [
    {
     "name": "stdout",
     "output_type": "stream",
     "text": [
      "(365570,)\n",
      "(365570,)\n"
     ]
    }
   ],
   "source": [
    "# Q10: What is the coefficient of correlation () between the size of the protein and the number of features found?\n",
    "import numpy as np\n",
    "\n",
    "new_df = filtered_interpro_features.groupby(['protein_accesion','length']).size().compute(num_workers=16)\n",
    "new_df = new_df.reset_index()\n",
    "new_df = new_df.rename(columns={0: 'num_features'})\n",
    "\n",
    "# Filter the DataFrame to include InterPRO features that are almost the same size as the protein\n",
    "protein_size = new_df['length']\n",
    "\n",
    "# Count the number of features found for each protein accession\n",
    "num_features = new_df['num_features']\n",
    "\n",
    "print(protein_size.shape)\n",
    "print(num_features.shape)"
   ]
  },
  {
   "cell_type": "code",
   "execution_count": 84,
   "id": "64a067bf",
   "metadata": {},
   "outputs": [
    {
     "name": "stdout",
     "output_type": "stream",
     "text": [
      "Correlation coefficient between protein size and the number of features found: 0.6387083370361596\n"
     ]
    }
   ],
   "source": [
    "correlation_coefficient = np.corrcoef(protein_size, num_features)[0, 1]\n",
    "\n",
    "print(\"Correlation coefficient between protein size and the number of features found:\", correlation_coefficient)\n"
   ]
  }
 ],
 "metadata": {
  "kernelspec": {
   "display_name": "Python 3 (ipykernel)",
   "language": "python",
   "name": "python3"
  },
  "language_info": {
   "codemirror_mode": {
    "name": "ipython",
    "version": 3
   },
   "file_extension": ".py",
   "mimetype": "text/x-python",
   "name": "python",
   "nbconvert_exporter": "python",
   "pygments_lexer": "ipython3",
   "version": "3.9.13"
  }
 },
 "nbformat": 4,
 "nbformat_minor": 5
}
