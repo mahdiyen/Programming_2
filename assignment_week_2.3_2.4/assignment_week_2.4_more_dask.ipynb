{
 "cells": [
  {
   "attachments": {},
   "cell_type": "markdown",
   "metadata": {},
   "source": [
    "## step 0a: get the data"
   ]
  },
  {
   "cell_type": "code",
   "execution_count": 24,
   "metadata": {},
   "outputs": [],
   "source": [
    "import pandas as pd\n",
    "import time"
   ]
  },
  {
   "cell_type": "code",
   "execution_count": 25,
   "metadata": {},
   "outputs": [],
   "source": [
    "df = pd.read_csv('test/groupby-N_1000000_K_100_file_0.csv')"
   ]
  },
  {
   "cell_type": "code",
   "execution_count": 26,
   "metadata": {},
   "outputs": [
    {
     "data": {
      "text/html": [
       "<div>\n",
       "<style scoped>\n",
       "    .dataframe tbody tr th:only-of-type {\n",
       "        vertical-align: middle;\n",
       "    }\n",
       "\n",
       "    .dataframe tbody tr th {\n",
       "        vertical-align: top;\n",
       "    }\n",
       "\n",
       "    .dataframe thead th {\n",
       "        text-align: right;\n",
       "    }\n",
       "</style>\n",
       "<table border=\"1\" class=\"dataframe\">\n",
       "  <thead>\n",
       "    <tr style=\"text-align: right;\">\n",
       "      <th></th>\n",
       "      <th>id1</th>\n",
       "      <th>id2</th>\n",
       "      <th>id3</th>\n",
       "      <th>id4</th>\n",
       "      <th>id5</th>\n",
       "      <th>id6</th>\n",
       "      <th>v1</th>\n",
       "      <th>v2</th>\n",
       "      <th>v3</th>\n",
       "    </tr>\n",
       "  </thead>\n",
       "  <tbody>\n",
       "    <tr>\n",
       "      <th>0</th>\n",
       "      <td>id085</td>\n",
       "      <td>id094</td>\n",
       "      <td>id0000004473</td>\n",
       "      <td>94</td>\n",
       "      <td>26</td>\n",
       "      <td>7809</td>\n",
       "      <td>4</td>\n",
       "      <td>9</td>\n",
       "      <td>47.169958</td>\n",
       "    </tr>\n",
       "    <tr>\n",
       "      <th>1</th>\n",
       "      <td>id002</td>\n",
       "      <td>id002</td>\n",
       "      <td>id0000001226</td>\n",
       "      <td>32</td>\n",
       "      <td>84</td>\n",
       "      <td>3769</td>\n",
       "      <td>4</td>\n",
       "      <td>8</td>\n",
       "      <td>22.157261</td>\n",
       "    </tr>\n",
       "    <tr>\n",
       "      <th>2</th>\n",
       "      <td>id082</td>\n",
       "      <td>id013</td>\n",
       "      <td>id0000000309</td>\n",
       "      <td>31</td>\n",
       "      <td>24</td>\n",
       "      <td>1281</td>\n",
       "      <td>3</td>\n",
       "      <td>11</td>\n",
       "      <td>86.690457</td>\n",
       "    </tr>\n",
       "    <tr>\n",
       "      <th>3</th>\n",
       "      <td>id082</td>\n",
       "      <td>id055</td>\n",
       "      <td>id0000008012</td>\n",
       "      <td>23</td>\n",
       "      <td>61</td>\n",
       "      <td>2802</td>\n",
       "      <td>2</td>\n",
       "      <td>12</td>\n",
       "      <td>52.400937</td>\n",
       "    </tr>\n",
       "    <tr>\n",
       "      <th>4</th>\n",
       "      <td>id032</td>\n",
       "      <td>id039</td>\n",
       "      <td>id0000002823</td>\n",
       "      <td>63</td>\n",
       "      <td>34</td>\n",
       "      <td>3895</td>\n",
       "      <td>4</td>\n",
       "      <td>14</td>\n",
       "      <td>72.752869</td>\n",
       "    </tr>\n",
       "  </tbody>\n",
       "</table>\n",
       "</div>"
      ],
      "text/plain": [
       "     id1    id2           id3  id4  id5   id6  v1  v2         v3\n",
       "0  id085  id094  id0000004473   94   26  7809   4   9  47.169958\n",
       "1  id002  id002  id0000001226   32   84  3769   4   8  22.157261\n",
       "2  id082  id013  id0000000309   31   24  1281   3  11  86.690457\n",
       "3  id082  id055  id0000008012   23   61  2802   2  12  52.400937\n",
       "4  id032  id039  id0000002823   63   34  3895   4  14  72.752869"
      ]
     },
     "execution_count": 26,
     "metadata": {},
     "output_type": "execute_result"
    }
   ],
   "source": [
    "df.head()"
   ]
  },
  {
   "cell_type": "code",
   "execution_count": 27,
   "metadata": {},
   "outputs": [],
   "source": [
    "import dask.dataframe as dd\n",
    "\n",
    "dff = dd.read_csv('test/groupby-N_1000000_K_100_file_0.csv')"
   ]
  },
  {
   "cell_type": "code",
   "execution_count": 28,
   "metadata": {},
   "outputs": [
    {
     "data": {
      "text/html": [
       "<div>\n",
       "<style scoped>\n",
       "    .dataframe tbody tr th:only-of-type {\n",
       "        vertical-align: middle;\n",
       "    }\n",
       "\n",
       "    .dataframe tbody tr th {\n",
       "        vertical-align: top;\n",
       "    }\n",
       "\n",
       "    .dataframe thead th {\n",
       "        text-align: right;\n",
       "    }\n",
       "</style>\n",
       "<table border=\"1\" class=\"dataframe\">\n",
       "  <thead>\n",
       "    <tr style=\"text-align: right;\">\n",
       "      <th></th>\n",
       "      <th>id1</th>\n",
       "      <th>id2</th>\n",
       "      <th>id3</th>\n",
       "      <th>id4</th>\n",
       "      <th>id5</th>\n",
       "      <th>id6</th>\n",
       "      <th>v1</th>\n",
       "      <th>v2</th>\n",
       "      <th>v3</th>\n",
       "    </tr>\n",
       "  </thead>\n",
       "  <tbody>\n",
       "    <tr>\n",
       "      <th>0</th>\n",
       "      <td>id085</td>\n",
       "      <td>id094</td>\n",
       "      <td>id0000004473</td>\n",
       "      <td>94</td>\n",
       "      <td>26</td>\n",
       "      <td>7809</td>\n",
       "      <td>4</td>\n",
       "      <td>9</td>\n",
       "      <td>47.169958</td>\n",
       "    </tr>\n",
       "    <tr>\n",
       "      <th>1</th>\n",
       "      <td>id002</td>\n",
       "      <td>id002</td>\n",
       "      <td>id0000001226</td>\n",
       "      <td>32</td>\n",
       "      <td>84</td>\n",
       "      <td>3769</td>\n",
       "      <td>4</td>\n",
       "      <td>8</td>\n",
       "      <td>22.157261</td>\n",
       "    </tr>\n",
       "    <tr>\n",
       "      <th>2</th>\n",
       "      <td>id082</td>\n",
       "      <td>id013</td>\n",
       "      <td>id0000000309</td>\n",
       "      <td>31</td>\n",
       "      <td>24</td>\n",
       "      <td>1281</td>\n",
       "      <td>3</td>\n",
       "      <td>11</td>\n",
       "      <td>86.690457</td>\n",
       "    </tr>\n",
       "    <tr>\n",
       "      <th>3</th>\n",
       "      <td>id082</td>\n",
       "      <td>id055</td>\n",
       "      <td>id0000008012</td>\n",
       "      <td>23</td>\n",
       "      <td>61</td>\n",
       "      <td>2802</td>\n",
       "      <td>2</td>\n",
       "      <td>12</td>\n",
       "      <td>52.400937</td>\n",
       "    </tr>\n",
       "    <tr>\n",
       "      <th>4</th>\n",
       "      <td>id032</td>\n",
       "      <td>id039</td>\n",
       "      <td>id0000002823</td>\n",
       "      <td>63</td>\n",
       "      <td>34</td>\n",
       "      <td>3895</td>\n",
       "      <td>4</td>\n",
       "      <td>14</td>\n",
       "      <td>72.752869</td>\n",
       "    </tr>\n",
       "  </tbody>\n",
       "</table>\n",
       "</div>"
      ],
      "text/plain": [
       "     id1    id2           id3  id4  id5   id6  v1  v2         v3\n",
       "0  id085  id094  id0000004473   94   26  7809   4   9  47.169958\n",
       "1  id002  id002  id0000001226   32   84  3769   4   8  22.157261\n",
       "2  id082  id013  id0000000309   31   24  1281   3  11  86.690457\n",
       "3  id082  id055  id0000008012   23   61  2802   2  12  52.400937\n",
       "4  id032  id039  id0000002823   63   34  3895   4  14  72.752869"
      ]
     },
     "execution_count": 28,
     "metadata": {},
     "output_type": "execute_result"
    }
   ],
   "source": [
    "dff.head()"
   ]
  },
  {
   "attachments": {},
   "cell_type": "markdown",
   "metadata": {},
   "source": [
    "## step 0b: create a timing function"
   ]
  },
  {
   "cell_type": "code",
   "execution_count": 29,
   "metadata": {},
   "outputs": [],
   "source": [
    "def perform_test(df):\n",
    "    start_time = time.time()\n",
    "    \n",
    "    if isinstance(df, pd.DataFrame):\n",
    "        result = df.groupby('id1')['v1'].sum()\n",
    "    elif isinstance(df, dd.DataFrame):\n",
    "        result = df.groupby('id1')['v1'].sum().compute()\n",
    "    else:\n",
    "        raise ValueError(\"Invalid dataframe type. Expected pandas or dask dataframe.\")\n",
    "    \n",
    "    end_time = time.time()\n",
    "    execution_time = end_time - start_time\n",
    "    \n",
    "    return execution_time"
   ]
  },
  {
   "cell_type": "code",
   "execution_count": 30,
   "metadata": {},
   "outputs": [
    {
     "data": {
      "text/plain": [
       "0.1230018138885498"
      ]
     },
     "execution_count": 30,
     "metadata": {},
     "output_type": "execute_result"
    }
   ],
   "source": [
    "perform_test(df)"
   ]
  },
  {
   "cell_type": "code",
   "execution_count": 31,
   "metadata": {},
   "outputs": [
    {
     "data": {
      "text/plain": [
       "1.1186625957489014"
      ]
     },
     "execution_count": 31,
     "metadata": {},
     "output_type": "execute_result"
    }
   ],
   "source": [
    "perform_test(dff)"
   ]
  },
  {
   "attachments": {},
   "cell_type": "markdown",
   "metadata": {},
   "source": [
    "# Exercise 1: improve on the Dask dataframe\n",
    "## step 1: setting a dask baseline"
   ]
  },
  {
   "cell_type": "code",
   "execution_count": 33,
   "metadata": {},
   "outputs": [],
   "source": [
    "# type all the columns except v1 as object columns\n",
    "dtypes = {\n",
    "    \"id1\": \"object\",\n",
    "    \"id2\": \"object\",\n",
    "    \"id3\": \"object\",\n",
    "    \"id4\": \"object\",\n",
    "    \"id5\": \"object\",\n",
    "    \"id6\": \"object\",\n",
    "    \"v1\": \"int64\",\n",
    "    \"v2\": \"object\",\n",
    "    \"v3\": \"object\",\n",
    "}\n",
    "\n",
    "# load the data by changing types\n",
    "dff = dd.read_csv('test/groupby-N_1000000_K_100_file_0.csv', dtype=dtypes)"
   ]
  },
  {
   "attachments": {},
   "cell_type": "markdown",
   "metadata": {},
   "source": [
    "## step 2: avoid object columns"
   ]
  },
  {
   "cell_type": "code",
   "execution_count": 34,
   "metadata": {},
   "outputs": [],
   "source": [
    "dtypes = {\n",
    "    \"id1\": \"string\",\n",
    "    \"id2\": \"string\",\n",
    "    \"id3\": \"string\",\n",
    "    \"id4\": \"int64\",\n",
    "    \"id5\": \"int64\",\n",
    "    \"id6\": \"int64\",\n",
    "    \"v1\": \"int64\",\n",
    "    \"v2\": \"int64\",\n",
    "    \"v3\": \"float64\",\n",
    "}\n",
    "\n",
    "dff = dd.read_csv('test/groupby-N_1000000_K_100_file_0.csv', dtype=dtypes)"
   ]
  },
  {
   "attachments": {},
   "cell_type": "markdown",
   "metadata": {},
   "source": [
    "## step 3: using multiple files"
   ]
  },
  {
   "cell_type": "code",
   "execution_count": 38,
   "metadata": {},
   "outputs": [],
   "source": [
    "# Split the data into multiple files\n",
    "dff_repartitioned = dff.repartition(partition_size='100MB')"
   ]
  },
  {
   "cell_type": "code",
   "execution_count": 39,
   "metadata": {},
   "outputs": [
    {
     "data": {
      "text/plain": [
       "['c:\\\\Users\\\\Mahdiye\\\\Desktop\\\\programming2_git\\\\Programming_2\\\\test\\\\groupby_partitioned\\\\0.csv',\n",
       " 'c:\\\\Users\\\\Mahdiye\\\\Desktop\\\\programming2_git\\\\Programming_2\\\\test\\\\groupby_partitioned\\\\1.csv',\n",
       " 'c:\\\\Users\\\\Mahdiye\\\\Desktop\\\\programming2_git\\\\Programming_2\\\\test\\\\groupby_partitioned\\\\2.csv']"
      ]
     },
     "execution_count": 39,
     "metadata": {},
     "output_type": "execute_result"
    }
   ],
   "source": [
    "# Write the repartitioned data\n",
    "dff_repartitioned.to_csv('test/groupby_partitioned/*.csv', index=False)"
   ]
  },
  {
   "cell_type": "code",
   "execution_count": 41,
   "metadata": {},
   "outputs": [],
   "source": [
    "# Read all data\n",
    "dff_multi = dd.read_csv('test/groupby_partitioned/*.csv', dtype=dtypes)"
   ]
  },
  {
   "cell_type": "code",
   "execution_count": 43,
   "metadata": {},
   "outputs": [
    {
     "name": "stdout",
     "output_type": "stream",
     "text": [
      "Execution time: 1.4560320377349854\n"
     ]
    }
   ],
   "source": [
    "# Rerun perform-test function\n",
    "execution_time = perform_test(dff_multi)\n",
    "print(\"Execution time:\", execution_time)"
   ]
  },
  {
   "attachments": {},
   "cell_type": "markdown",
   "metadata": {},
   "source": [
    "## step 4a: parquet instead of csv"
   ]
  },
  {
   "cell_type": "code",
   "execution_count": 46,
   "metadata": {},
   "outputs": [],
   "source": [
    "# pip install pyarrow"
   ]
  },
  {
   "cell_type": "code",
   "execution_count": 47,
   "metadata": {},
   "outputs": [],
   "source": [
    "# Write the repartitioned data to Parquet files\n",
    "dff_repartitioned.to_parquet('test/groupby_partitioned.parquet', compression=None, engine='pyarrow')"
   ]
  },
  {
   "cell_type": "code",
   "execution_count": 48,
   "metadata": {},
   "outputs": [],
   "source": [
    "# Read parquet data\n",
    "dff_multi_parquet = dd.read_parquet('test/groupby_partitioned.parquet', engine='pyarrow')"
   ]
  },
  {
   "cell_type": "code",
   "execution_count": 50,
   "metadata": {},
   "outputs": [
    {
     "name": "stdout",
     "output_type": "stream",
     "text": [
      "Execution time: 0.6108603477478027\n"
     ]
    }
   ],
   "source": [
    "# Rerun perform-test by new data\n",
    "execution_time = perform_test(dff_multi_parquet)\n",
    "print(\"Execution time:\", execution_time)"
   ]
  },
  {
   "attachments": {},
   "cell_type": "markdown",
   "metadata": {},
   "source": [
    "## step 4b: use snappy as a compressor"
   ]
  },
  {
   "cell_type": "code",
   "execution_count": 52,
   "metadata": {},
   "outputs": [],
   "source": [
    "# pip install python-snappy"
   ]
  },
  {
   "cell_type": "code",
   "execution_count": 54,
   "metadata": {},
   "outputs": [],
   "source": [
    "# Write the repartitioned data to Parquet files with Snappy compression\n",
    "dff_repartitioned.to_parquet('test/groupby_partitioned.parquet', \n",
    "                            compression='snappy', \n",
    "                            engine='pyarrow')"
   ]
  },
  {
   "cell_type": "code",
   "execution_count": 55,
   "metadata": {},
   "outputs": [],
   "source": [
    "# Read new data\n",
    "dff_multi_snappy = dd.read_parquet('test/groupby_partitioned.parquet', engine='pyarrow')"
   ]
  },
  {
   "cell_type": "code",
   "execution_count": 56,
   "metadata": {},
   "outputs": [
    {
     "name": "stdout",
     "output_type": "stream",
     "text": [
      "Execution time: 0.5629994869232178\n"
     ]
    }
   ],
   "source": [
    "execution_time = perform_test(dff_multi_snappy)\n",
    "print(\"Execution time:\", execution_time)"
   ]
  },
  {
   "attachments": {},
   "cell_type": "markdown",
   "metadata": {},
   "source": [
    "## step 5: column pruning"
   ]
  },
  {
   "cell_type": "code",
   "execution_count": 57,
   "metadata": {},
   "outputs": [],
   "source": [
    "# pruning to select only the relevant columns\n",
    "df_pruned = dd.read_parquet('test/groupby_partitioned.parquet', \n",
    "                            columns=['id1', 'v1'], \n",
    "                            engine='pyarrow')"
   ]
  },
  {
   "cell_type": "code",
   "execution_count": 58,
   "metadata": {},
   "outputs": [
    {
     "name": "stdout",
     "output_type": "stream",
     "text": [
      "Execution time: 0.6834335327148438\n"
     ]
    }
   ],
   "source": [
    "execution_time = perform_test(df_pruned)\n",
    "print(\"Execution time:\", execution_time)"
   ]
  },
  {
   "attachments": {},
   "cell_type": "markdown",
   "metadata": {},
   "source": [
    "## step 6: comparison with pandas"
   ]
  },
  {
   "cell_type": "code",
   "execution_count": 59,
   "metadata": {},
   "outputs": [
    {
     "name": "stdout",
     "output_type": "stream",
     "text": [
      "Pandas Execution time: 0.07899141311645508\n"
     ]
    }
   ],
   "source": [
    "df_pandas = pd.read_csv('test/groupby-N_1000000_K_100_file_0.csv')\n",
    "execution_time_pandas = perform_test(df_pandas)\n",
    "print(\"Pandas Execution time:\", execution_time_pandas)"
   ]
  }
 ],
 "metadata": {
  "kernelspec": {
   "display_name": "Python 3",
   "language": "python",
   "name": "python3"
  },
  "language_info": {
   "codemirror_mode": {
    "name": "ipython",
    "version": 3
   },
   "file_extension": ".py",
   "mimetype": "text/x-python",
   "name": "python",
   "nbconvert_exporter": "python",
   "pygments_lexer": "ipython3",
   "version": "3.10.11"
  },
  "orig_nbformat": 4
 },
 "nbformat": 4,
 "nbformat_minor": 2
}
